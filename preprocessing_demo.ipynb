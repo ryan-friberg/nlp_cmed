{
 "cells": [
  {
   "cell_type": "code",
   "execution_count": 1,
   "id": "bb256f01-d704-455e-b68c-119845e0e515",
   "metadata": {},
   "outputs": [],
   "source": [
    "from pathlib import Path\n",
    "import csv\n",
    "import spacy"
   ]
  },
  {
   "cell_type": "code",
   "execution_count": 2,
   "id": "ee23df25-f6e4-4fd6-95df-62a9e836c2cf",
   "metadata": {},
   "outputs": [
    {
     "data": {
      "text/plain": [
       "<spacy.pipeline.sentencizer.Sentencizer at 0x7f7dcde53140>"
      ]
     },
     "execution_count": 2,
     "metadata": {},
     "output_type": "execute_result"
    }
   ],
   "source": [
    "disable = ['tok2vec', 'tagger', 'attribute_ruler', 'lemmatizer', 'parser', 'ner']\n",
    "nlp = spacy.load(\"en_core_sci_sm\", disable=disable)\n",
    "nlp.add_pipe(\"sentencizer\") # use senter"
   ]
  },
  {
   "cell_type": "code",
   "execution_count": 3,
   "id": "8e0ed760-5447-4e91-974e-3faee73ccdc3",
   "metadata": {},
   "outputs": [
    {
     "name": "stdout",
     "output_type": "stream",
     "text": [
      "Training samples: 350\n",
      "Dev samples: 50\n"
     ]
    }
   ],
   "source": [
    "# paths to data directories\n",
    "data_path = Path(\"n2c2Track1TrainingData/data\")\n",
    "train_path = data_path / \"train\"\n",
    "dev_path = data_path / \"dev\"\n",
    "\n",
    "# paths to data and annotation files\n",
    "train_data_files = sorted(list(train_path.rglob(\"*.txt\")), key=lambda x: x.name)\n",
    "train_ann_files = sorted(list(train_path.rglob(\"*.ann\")), key=lambda x: x.name)\n",
    "dev_data_files = sorted(list(dev_path.rglob(\"*.txt\")), key=lambda x: x.name)\n",
    "dev_ann_files = sorted(list(dev_path.rglob(\"*.ann\")), key=lambda x: x.name)\n",
    "\n",
    "assert(len(train_data_files) == len(train_ann_files))\n",
    "assert(len(dev_data_files) == len(dev_ann_files))\n",
    "\n",
    "print(f\"Training samples: {len(train_data_files)}\")\n",
    "print(f\"Dev samples: {len(dev_data_files)}\")"
   ]
  },
  {
   "cell_type": "code",
   "execution_count": 4,
   "id": "cc5fb9d5-b784-4e35-ae6d-74a7b808b643",
   "metadata": {},
   "outputs": [],
   "source": [
    "example_data = train_data_files[2].read_text()\n",
    "example_anns = train_ann_files[2].read_text()"
   ]
  },
  {
   "cell_type": "code",
   "execution_count": 5,
   "id": "5d306234-5728-4354-94e5-c5eaa0a3f380",
   "metadata": {},
   "outputs": [],
   "source": [
    "doc = nlp(example_data)"
   ]
  },
  {
   "cell_type": "code",
   "execution_count": 18,
   "id": "678fe1d2-dab3-41a0-9ac9-5cd5f7b2df32",
   "metadata": {},
   "outputs": [
    {
     "name": "stdout",
     "output_type": "stream",
     "text": [
      "\n",
      "\n",
      "\n",
      "Record date: 2079-08-11\n",
      "\n",
      "\n",
      "\n",
      "\n",
      "MERCY CARE CENTER\n",
      "MERCY Internal Medicine Associates\n",
      "07 Newburgh Street\n",
      "Terrell, AR  72985\n",
      "\n",
      "Russell, Donna\n",
      "10418061\n",
      "08/11/79\n",
      "\n",
      "\n",
      "HISTORY OF PRESENT ILLNESS:  Ms. Russell returns for further evaluation.  \n",
      "She has been doing very well.  She has been exercising and has lost from \n",
      "200 to 170 pounds.  She is feeling very well.\n",
      "\n",
      "Notably, Dr. Lu sent her for a follow-up ETT.  He did not find the \n",
      "first ETT acceptable.  The second ETT was grossly positive.  As a result \n",
      "of this, I think it is reasonable for us in addition to having her on \n",
      "atenolol to stop the hydrochlorothiazide, put her on ramipril and a \n",
      "nitrate.  She is having once every two weeks feeling a slight twinge of \n",
      "pain that she was having before when she went up steps.\n",
      "\n",
      "She did have hyperlipidemia.  We have put her on Lipitor, which has \n",
      "provided some control.  However, her HCL is still 36 and LDL 118, which \n",
      "is not an excellent ratio.  Nonetheless, her CK has been within normal \n",
      "limits.\n",
      "\n",
      "She also has right shoulder lipoma.  This has become apparent since she \n",
      "lost so much weight.  She wanted to see someone in follow up and I have \n",
      "recommended Dr. Dawson.\n",
      "\n",
      "PHYSICAL EXAMINATION:  Her weight is 170 pounds, blood pressure is \n",
      "120/64, respiratory rate is 20, and pulse is 64.  Neck is supple.  There \n",
      "is no lymphadenopathy.  Chest is clear to percussion and auscultation.  \n",
      "Cardiac exam is regularly regular with no murmurs, gallops, or rubs.  \n",
      "Abdomen is soft and nontender.  There is no hepatosplenomegaly.  \n",
      "Extremities are clear of cyanosis, clubbing, and edema.\n",
      "\n",
      "LABORATORY DATA:  None today.\n",
      "\n",
      "\n",
      "Russell, Donna\n",
      "10418061\n",
      "08/11/79\n",
      "Page 2\n",
      "\n",
      "\n",
      "ASSESSMENT AND PLAN:\n",
      "1.\tCAD.  We will start her on ramipril and long acting nitrate.  I also \n",
      "gave her nitroglycerine.  We will stop her hydrochlorothiazide but \n",
      "continue her atenolol.  She is also on one aspirin a day along with \n",
      "Premarin and Synthroid.\n",
      "2.\tWeight loss.  She will continue to exercise.  I suspect she is going \n",
      "to lose more weight.  This is excellent.\n",
      "3.\tCoronary artery disease.  Dr. Lu will be deciding when to do a \n",
      "cardiac catheterization.  It is his opinion, and I must concur that \n",
      "this is an appropriate next step with Ms. Russell.  She is going to \n",
      "delay her usual trip to Rhode Island until we can get final assessment \n",
      "done on this variety of medical issues.\n",
      "\n",
      "\n",
      "\n",
      "_______________________________\n",
      "Quinn Rutledge, M.D.\n",
      "\n",
      "QR/RM5\n",
      "055626.doc\n",
      "DD:  \n",
      "08/16/2079\n",
      "DT:  08/18/2079\n",
      "DV:  08/11/2079\n",
      "\n",
      "\n",
      "\n",
      "\n",
      "\n",
      "\n",
      "\n"
     ]
    }
   ],
   "source": [
    "print(example_data)"
   ]
  },
  {
   "cell_type": "code",
   "execution_count": 19,
   "id": "f3eedbf1-36cc-4a78-87ca-5a7c255af348",
   "metadata": {},
   "outputs": [
    {
     "name": "stdout",
     "output_type": "stream",
     "text": [
      "T2\tNoDisposition 567 575\tatenolol\n",
      "E2\tNoDisposition:T2 \n",
      "T3\tDisposition 620 628\tramipril\n",
      "E3\tDisposition:T3 \n",
      "T4\tDisposition 815 822\tLipitor\n",
      "E4\tDisposition:T4 \n",
      "T6\tDisposition 1707 1726\tlong acting nitrate\n",
      "E6\tDisposition:T6 \n",
      "T7\tUndetermined 1746 1760\tnitroglycerine\n",
      "E7\tUndetermined:T7 \n",
      "T8\tDisposition 1780 1799\thydrochlorothiazide\n",
      "E8\tDisposition:T8 \n",
      "T9\tNoDisposition 1818 1826\tatenolol\n",
      "E9\tNoDisposition:T9 \n",
      "T10\tNoDisposition 1848 1855\taspirin\n",
      "E10\tNoDisposition:T10 \n",
      "T11\tNoDisposition 1874 1882\tPremarin\n",
      "E11\tNoDisposition:T11 \n",
      "T12\tNoDisposition 1887 1896\tSynthroid\n",
      "E12\tNoDisposition:T12 \n",
      "T13\tDisposition 588 607\thydrochlorothiazide\n",
      "E13\tDisposition:T13 \n",
      "A1\tCertainity E13 Certain\n",
      "A2\tActor E13 Physician\n",
      "A3\tAction E13 Stop\n",
      "A4\tTemporality E13 Present\n",
      "A5\tCertainity E3 Certain\n",
      "A6\tActor E3 Physician\n",
      "A7\tAction E3 Start\n",
      "A8\tTemporality E3 Present\n",
      "T14\tDisposition 636 643\tnitrate\n",
      "E14\tDisposition:T14 \n",
      "A9\tCertainity E14 Certain\n",
      "A10\tActor E14 Physician\n",
      "A11\tAction E14 Start\n",
      "A12\tTemporality E14 Present\n",
      "A13\tCertainity E4 Certain\n",
      "A14\tActor E4 Physician\n",
      "A15\tAction E4 Start\n",
      "A16\tTemporality E4 Past\n",
      "T15\tDisposition 1694 1702\tramipril\n",
      "E15\tDisposition:T15 \n",
      "A17\tCertainity E15 Certain\n",
      "A18\tActor E15 Physician\n",
      "A19\tAction E15 Start\n",
      "A20\tTemporality E15 Present\n",
      "A21\tCertainity E6 Certain\n",
      "A22\tActor E6 Physician\n",
      "A23\tAction E6 Start\n",
      "A24\tTemporality E6 Present\n",
      "A26\tCertainity E8 Certain\n",
      "A27\tActor E8 Physician\n",
      "A28\tAction E8 Stop\n",
      "A29\tTemporality E8 Present\n"
     ]
    }
   ],
   "source": [
    "print(example_anns)"
   ]
  },
  {
   "cell_type": "code",
   "execution_count": 10,
   "id": "e4b3e39c-1f51-4126-b347-0be957410537",
   "metadata": {},
   "outputs": [
    {
     "data": {
      "text/plain": [
       "[['T2', 'NoDisposition 567 575', 'atenolol'],\n",
       " ['E2', 'NoDisposition:T2 '],\n",
       " ['T3', 'Disposition 620 628', 'ramipril'],\n",
       " ['E3', 'Disposition:T3 '],\n",
       " ['T4', 'Disposition 815 822', 'Lipitor'],\n",
       " ['E4', 'Disposition:T4 '],\n",
       " ['T6', 'Disposition 1707 1726', 'long acting nitrate'],\n",
       " ['E6', 'Disposition:T6 '],\n",
       " ['T7', 'Undetermined 1746 1760', 'nitroglycerine'],\n",
       " ['E7', 'Undetermined:T7 '],\n",
       " ['T8', 'Disposition 1780 1799', 'hydrochlorothiazide'],\n",
       " ['E8', 'Disposition:T8 '],\n",
       " ['T9', 'NoDisposition 1818 1826', 'atenolol'],\n",
       " ['E9', 'NoDisposition:T9 '],\n",
       " ['T10', 'NoDisposition 1848 1855', 'aspirin'],\n",
       " ['E10', 'NoDisposition:T10 '],\n",
       " ['T11', 'NoDisposition 1874 1882', 'Premarin'],\n",
       " ['E11', 'NoDisposition:T11 '],\n",
       " ['T12', 'NoDisposition 1887 1896', 'Synthroid'],\n",
       " ['E12', 'NoDisposition:T12 '],\n",
       " ['T13', 'Disposition 588 607', 'hydrochlorothiazide'],\n",
       " ['E13', 'Disposition:T13 '],\n",
       " ['A1', 'Certainity E13 Certain'],\n",
       " ['A2', 'Actor E13 Physician'],\n",
       " ['A3', 'Action E13 Stop'],\n",
       " ['A4', 'Temporality E13 Present'],\n",
       " ['A5', 'Certainity E3 Certain'],\n",
       " ['A6', 'Actor E3 Physician'],\n",
       " ['A7', 'Action E3 Start'],\n",
       " ['A8', 'Temporality E3 Present'],\n",
       " ['T14', 'Disposition 636 643', 'nitrate'],\n",
       " ['E14', 'Disposition:T14 '],\n",
       " ['A9', 'Certainity E14 Certain'],\n",
       " ['A10', 'Actor E14 Physician'],\n",
       " ['A11', 'Action E14 Start'],\n",
       " ['A12', 'Temporality E14 Present'],\n",
       " ['A13', 'Certainity E4 Certain'],\n",
       " ['A14', 'Actor E4 Physician'],\n",
       " ['A15', 'Action E4 Start'],\n",
       " ['A16', 'Temporality E4 Past'],\n",
       " ['T15', 'Disposition 1694 1702', 'ramipril'],\n",
       " ['E15', 'Disposition:T15 '],\n",
       " ['A17', 'Certainity E15 Certain'],\n",
       " ['A18', 'Actor E15 Physician'],\n",
       " ['A19', 'Action E15 Start'],\n",
       " ['A20', 'Temporality E15 Present'],\n",
       " ['A21', 'Certainity E6 Certain'],\n",
       " ['A22', 'Actor E6 Physician'],\n",
       " ['A23', 'Action E6 Start'],\n",
       " ['A24', 'Temporality E6 Present'],\n",
       " ['A26', 'Certainity E8 Certain'],\n",
       " ['A27', 'Actor E8 Physician'],\n",
       " ['A28', 'Action E8 Stop'],\n",
       " ['A29', 'Temporality E8 Present']]"
      ]
     },
     "execution_count": 10,
     "metadata": {},
     "output_type": "execute_result"
    }
   ],
   "source": [
    "parsed_anns = list(csv.reader(example_anns.splitlines(), delimiter=\"\\t\"))\n",
    "parsed_anns"
   ]
  },
  {
   "cell_type": "code",
   "execution_count": 11,
   "id": "065cbf84-6eeb-46dc-b537-86253cb33962",
   "metadata": {},
   "outputs": [
    {
     "name": "stdout",
     "output_type": "stream",
     "text": [
      "{'med_id': 'T2', 'char_span': (567, 575), 'med_name': 'atenolol', 'event_id': 'E2', 'event': 'NoDisposition'}\n",
      "{'med_id': 'T3', 'char_span': (620, 628), 'med_name': 'ramipril', 'event_id': 'E3', 'event': 'Disposition', 'certainity': 'Certain', 'actor': 'Physician', 'action': 'Start', 'temporality': 'Present'}\n",
      "{'med_id': 'T4', 'char_span': (815, 822), 'med_name': 'Lipitor', 'event_id': 'E4', 'event': 'Disposition', 'certainity': 'Certain', 'actor': 'Physician', 'action': 'Start', 'temporality': 'Past'}\n",
      "{'med_id': 'T6', 'char_span': (1707, 1726), 'med_name': 'long acting nitrate', 'event_id': 'E6', 'event': 'Disposition', 'certainity': 'Certain', 'actor': 'Physician', 'action': 'Start', 'temporality': 'Present'}\n",
      "{'med_id': 'T7', 'char_span': (1746, 1760), 'med_name': 'nitroglycerine', 'event_id': 'E7', 'event': 'Undetermined'}\n",
      "{'med_id': 'T8', 'char_span': (1780, 1799), 'med_name': 'hydrochlorothiazide', 'event_id': 'E8', 'event': 'Disposition', 'certainity': 'Certain', 'actor': 'Physician', 'action': 'Stop', 'temporality': 'Present'}\n",
      "{'med_id': 'T9', 'char_span': (1818, 1826), 'med_name': 'atenolol', 'event_id': 'E9', 'event': 'NoDisposition'}\n",
      "{'med_id': 'T10', 'char_span': (1848, 1855), 'med_name': 'aspirin', 'event_id': 'E10', 'event': 'NoDisposition'}\n",
      "{'med_id': 'T11', 'char_span': (1874, 1882), 'med_name': 'Premarin', 'event_id': 'E11', 'event': 'NoDisposition'}\n",
      "{'med_id': 'T12', 'char_span': (1887, 1896), 'med_name': 'Synthroid', 'event_id': 'E12', 'event': 'NoDisposition'}\n",
      "{'med_id': 'T13', 'char_span': (588, 607), 'med_name': 'hydrochlorothiazide', 'event_id': 'E13', 'event': 'Disposition', 'certainity': 'Certain', 'actor': 'Physician', 'action': 'Stop', 'temporality': 'Present'}\n",
      "{'med_id': 'T14', 'char_span': (636, 643), 'med_name': 'nitrate', 'event_id': 'E14', 'event': 'Disposition', 'certainity': 'Certain', 'actor': 'Physician', 'action': 'Start', 'temporality': 'Present'}\n",
      "{'med_id': 'T15', 'char_span': (1694, 1702), 'med_name': 'ramipril', 'event_id': 'E15', 'event': 'Disposition', 'certainity': 'Certain', 'actor': 'Physician', 'action': 'Start', 'temporality': 'Present'}\n"
     ]
    }
   ],
   "source": [
    "annotations = []\n",
    "for ann in parsed_anns:\n",
    "    if ann[0][0] == \"T\":\n",
    "        med_id = ann[0] # medication mention id\n",
    "        col2 = ann[1].split()\n",
    "        start = int(col2[1])\n",
    "        end = int(col2[2])\n",
    "        med_name = ann[2]\n",
    "        new_ann = {\n",
    "            \"med_id\": med_id,\n",
    "            \"char_span\": (start, end),\n",
    "            \"med_name\": med_name\n",
    "        }\n",
    "        annotations.append(new_ann)\n",
    "\n",
    "for ann_dict in annotations:\n",
    "    med_id = ann_dict[\"med_id\"]\n",
    "    for ann in parsed_anns:\n",
    "        if ann[0][0] == \"E\":\n",
    "            col2 = ann[1].split(\":\")\n",
    "            if col2[1].strip() == med_id:\n",
    "                ann_dict[\"event_id\"] = ann[0]\n",
    "                ann_dict[\"event\"] = col2[0]\n",
    "\n",
    "for ann_dict in annotations:\n",
    "    event_id = ann_dict[\"event_id\"]\n",
    "    for ann in parsed_anns:\n",
    "        if ann[0][0] == \"A\":\n",
    "            col2 = ann[1].split()\n",
    "            if col2[1] == event_id:\n",
    "                context_dim = col2[0].lower()\n",
    "                context_label = col2[2]\n",
    "                ann_dict[context_dim] = context_label\n",
    "                \n",
    "for ann in annotations:\n",
    "    print(ann)"
   ]
  },
  {
   "cell_type": "code",
   "execution_count": 8,
   "id": "10502c4d-bb5b-49ad-86ab-e6a011283687",
   "metadata": {},
   "outputs": [
    {
     "name": "stdout",
     "output_type": "stream",
     "text": [
      "[['A2', 'Actor E13 Physician'], ['A4', 'Temporality E13 Present'], ['A6', 'Actor E3 Physician'], ['A8', 'Temporality E3 Present'], ['A10', 'Actor E14 Physician'], ['A12', 'Temporality E14 Present'], ['A14', 'Actor E4 Physician'], ['A16', 'Temporality E4 Past'], ['A18', 'Actor E15 Physician'], ['A20', 'Temporality E15 Present'], ['A22', 'Actor E6 Physician'], ['A24', 'Temporality E6 Present'], ['A27', 'Actor E8 Physician'], ['A29', 'Temporality E8 Present']]\n"
     ]
    }
   ],
   "source": [
    "print(parsed_anns)"
   ]
  },
  {
   "cell_type": "code",
   "execution_count": 9,
   "id": "72883256-43c9-40cd-910b-0e45b10557af",
   "metadata": {},
   "outputs": [
    {
     "name": "stdout",
     "output_type": "stream",
     "text": [
      "['Actor', 'E13', 'Physician']\n"
     ]
    }
   ],
   "source": [
    "print(parsed_anns[0][1].split())"
   ]
  },
  {
   "cell_type": "code",
   "execution_count": 16,
   "id": "f6dd56f3-5efa-4bb4-ba52-cb3a38e1018f",
   "metadata": {},
   "outputs": [],
   "source": [
    "for ann in annotations:\n",
    "    span = doc.char_span(*ann[\"char_span\"], label=ann[\"med_id\"])\n",
    "    ann[\"token_span\"] = (span.start, span.end)"
   ]
  },
  {
   "cell_type": "code",
   "execution_count": 17,
   "id": "58c9a14e-a9c9-4ce9-8e65-f005ecc3efa4",
   "metadata": {},
   "outputs": [
    {
     "name": "stdout",
     "output_type": "stream",
     "text": [
      "{'med_id': 'T2', 'char_span': (567, 575), 'med_name': 'atenolol', 'event_id': 'E2', 'event': 'NoDisposition', 'token_span': (133, 134)}\n",
      "{'med_id': 'T3', 'char_span': (620, 628), 'med_name': 'ramipril', 'event_id': 'E3', 'event': 'Disposition', 'certainity': 'Certain', 'action': 'Start', 'token_span': (142, 143)}\n",
      "{'med_id': 'T4', 'char_span': (815, 822), 'med_name': 'Lipitor', 'event_id': 'E4', 'event': 'Disposition', 'certainity': 'Certain', 'action': 'Start', 'token_span': (186, 187)}\n",
      "{'med_id': 'T6', 'char_span': (1707, 1726), 'med_name': 'long acting nitrate', 'event_id': 'E6', 'event': 'Disposition', 'certainity': 'Certain', 'action': 'Start', 'token_span': (391, 394)}\n",
      "{'med_id': 'T7', 'char_span': (1746, 1760), 'med_name': 'nitroglycerine', 'event_id': 'E7', 'event': 'Undetermined', 'token_span': (401, 402)}\n",
      "{'med_id': 'T8', 'char_span': (1780, 1799), 'med_name': 'hydrochlorothiazide', 'event_id': 'E8', 'event': 'Disposition', 'certainity': 'Certain', 'action': 'Stop', 'token_span': (408, 409)}\n",
      "{'med_id': 'T9', 'char_span': (1818, 1826), 'med_name': 'atenolol', 'event_id': 'E9', 'event': 'NoDisposition', 'token_span': (413, 414)}\n",
      "{'med_id': 'T10', 'char_span': (1848, 1855), 'med_name': 'aspirin', 'event_id': 'E10', 'event': 'NoDisposition', 'token_span': (421, 422)}\n",
      "{'med_id': 'T11', 'char_span': (1874, 1882), 'med_name': 'Premarin', 'event_id': 'E11', 'event': 'NoDisposition', 'token_span': (427, 428)}\n",
      "{'med_id': 'T12', 'char_span': (1887, 1896), 'med_name': 'Synthroid', 'event_id': 'E12', 'event': 'NoDisposition', 'token_span': (429, 430)}\n",
      "{'med_id': 'T13', 'char_span': (588, 607), 'med_name': 'hydrochlorothiazide', 'event_id': 'E13', 'event': 'Disposition', 'certainity': 'Certain', 'action': 'Stop', 'token_span': (137, 138)}\n",
      "{'med_id': 'T14', 'char_span': (636, 643), 'med_name': 'nitrate', 'event_id': 'E14', 'event': 'Disposition', 'certainity': 'Certain', 'action': 'Start', 'token_span': (146, 147)}\n",
      "{'med_id': 'T15', 'char_span': (1694, 1702), 'med_name': 'ramipril', 'event_id': 'E15', 'event': 'Disposition', 'certainity': 'Certain', 'action': 'Start', 'token_span': (389, 390)}\n"
     ]
    }
   ],
   "source": [
    "for annotation in annotations:\n",
    "    print(annotation)"
   ]
  },
  {
   "cell_type": "code",
   "execution_count": 21,
   "id": "20b63112-65cb-4c53-ad4b-eb41f85dcfd8",
   "metadata": {},
   "outputs": [
    {
     "name": "stdout",
     "output_type": "stream",
     "text": [
      "[['T2', 'NoDisposition 567 575', 'atenolol'], ['E2', 'NoDisposition:T2 '], ['T3', 'Disposition 620 628', 'ramipril'], ['E3', 'Disposition:T3 '], ['T4', 'Disposition 815 822', 'Lipitor'], ['E4', 'Disposition:T4 '], ['T6', 'Disposition 1707 1726', 'long acting nitrate'], ['E6', 'Disposition:T6 '], ['T7', 'Undetermined 1746 1760', 'nitroglycerine'], ['E7', 'Undetermined:T7 '], ['T8', 'Disposition 1780 1799', 'hydrochlorothiazide'], ['E8', 'Disposition:T8 '], ['T9', 'NoDisposition 1818 1826', 'atenolol'], ['E9', 'NoDisposition:T9 '], ['T10', 'NoDisposition 1848 1855', 'aspirin'], ['E10', 'NoDisposition:T10 '], ['T11', 'NoDisposition 1874 1882', 'Premarin'], ['E11', 'NoDisposition:T11 '], ['T12', 'NoDisposition 1887 1896', 'Synthroid'], ['E12', 'NoDisposition:T12 '], ['T13', 'Disposition 588 607', 'hydrochlorothiazide'], ['E13', 'Disposition:T13 '], ['A1', 'Certainity E13 Certain'], ['A2', 'Actor E13 Physician'], ['A3', 'Action E13 Stop'], ['A4', 'Temporality E13 Present'], ['A5', 'Certainity E3 Certain'], ['A6', 'Actor E3 Physician'], ['A7', 'Action E3 Start'], ['A8', 'Temporality E3 Present'], ['T14', 'Disposition 636 643', 'nitrate'], ['E14', 'Disposition:T14 '], ['A9', 'Certainity E14 Certain'], ['A10', 'Actor E14 Physician'], ['A11', 'Action E14 Start'], ['A12', 'Temporality E14 Present'], ['A13', 'Certainity E4 Certain'], ['A14', 'Actor E4 Physician'], ['A15', 'Action E4 Start'], ['A16', 'Temporality E4 Past'], ['T15', 'Disposition 1694 1702', 'ramipril'], ['E15', 'Disposition:T15 '], ['A17', 'Certainity E15 Certain'], ['A18', 'Actor E15 Physician'], ['A19', 'Action E15 Start'], ['A20', 'Temporality E15 Present'], ['A21', 'Certainity E6 Certain'], ['A22', 'Actor E6 Physician'], ['A23', 'Action E6 Start'], ['A24', 'Temporality E6 Present'], ['A26', 'Certainity E8 Certain'], ['A27', 'Actor E8 Physician'], ['A28', 'Action E8 Stop'], ['A29', 'Temporality E8 Present']]\n"
     ]
    }
   ],
   "source": [
    "with train_ann_files[2].open() as f:\n",
    "    anns = list(csv.reader(f, delimiter=\"\\t\"))\n",
    "print(anns)"
   ]
  },
  {
   "cell_type": "code",
   "execution_count": 18,
   "id": "8e3cb461-5785-4df7-94d7-4c0724b8cd39",
   "metadata": {},
   "outputs": [
    {
     "name": "stdout",
     "output_type": "stream",
     "text": [
      "50\n",
      "8\n",
      "15\n",
      "7\n",
      "12\n",
      "11\n",
      "8\n",
      "37\n",
      "26\n",
      "6\n",
      "15\n",
      "20\n",
      "12\n",
      "8\n",
      "13\n",
      "17\n",
      "27\n",
      "5\n",
      "7\n",
      "9\n",
      "15\n",
      "7\n",
      "6\n",
      "12\n",
      "8\n",
      "19\n",
      "3\n",
      "12\n",
      "8\n",
      "12\n",
      "16\n",
      "3\n",
      "4\n",
      "7\n",
      "12\n",
      "5\n",
      "3\n",
      "5\n",
      "14\n",
      "22\n",
      "28\n",
      "57\n"
     ]
    }
   ],
   "source": [
    "for sent in doc.sents:\n",
    "    print(len(sent))"
   ]
  },
  {
   "cell_type": "code",
   "execution_count": 25,
   "id": "83ca85d3-5224-43a6-a171-7541efa8dcca",
   "metadata": {},
   "outputs": [
    {
     "data": {
      "text/plain": [
       "591"
      ]
     },
     "execution_count": 25,
     "metadata": {},
     "output_type": "execute_result"
    }
   ],
   "source": [
    "len([str(token) for token in doc])"
   ]
  },
  {
   "cell_type": "code",
   "execution_count": 26,
   "id": "99e80f29-3240-491f-97e7-1b13ce097005",
   "metadata": {},
   "outputs": [
    {
     "name": "stdout",
     "output_type": "stream",
     "text": [
      "0 50\n",
      "50 58\n",
      "58 73\n",
      "73 80\n",
      "80 92\n",
      "92 103\n",
      "103 111\n",
      "111 148\n",
      "148 174\n",
      "174 180\n",
      "180 195\n",
      "195 215\n",
      "215 227\n",
      "227 235\n",
      "235 248\n",
      "248 265\n",
      "265 292\n",
      "292 297\n",
      "297 304\n",
      "304 313\n",
      "313 328\n",
      "328 335\n",
      "335 341\n",
      "341 353\n",
      "353 361\n",
      "361 380\n",
      "380 383\n",
      "383 395\n",
      "395 403\n",
      "403 415\n",
      "415 431\n",
      "431 434\n",
      "434 438\n",
      "438 445\n",
      "445 457\n",
      "457 462\n",
      "462 465\n",
      "465 470\n",
      "470 484\n",
      "484 506\n",
      "506 534\n",
      "534 591\n"
     ]
    }
   ],
   "source": [
    "for sent in doc.sents:\n",
    "    print(sent.start, sent.end)"
   ]
  },
  {
   "cell_type": "code",
   "execution_count": null,
   "id": "03ad18fe-91a8-4593-a46f-61791e6a8da0",
   "metadata": {},
   "outputs": [],
   "source": []
  }
 ],
 "metadata": {
  "kernelspec": {
   "display_name": "nlpfinalenv",
   "language": "python",
   "name": "nlpfinalenv"
  },
  "language_info": {
   "codemirror_mode": {
    "name": "ipython",
    "version": 3
   },
   "file_extension": ".py",
   "mimetype": "text/x-python",
   "name": "python",
   "nbconvert_exporter": "python",
   "pygments_lexer": "ipython3",
   "version": "3.7.9"
  }
 },
 "nbformat": 4,
 "nbformat_minor": 5
}
